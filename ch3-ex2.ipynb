{
 "cells": [
  {
   "cell_type": "code",
   "execution_count": 1,
   "metadata": {},
   "outputs": [
    {
     "data": {
      "text/plain": [
       "'\\nYou wrote a program to prompt the user for hours and rate per hour to compute gross pay. Also, your pay computation gives the employee 1.5 times the hourly rate for hours worked above 40 hours.\\n\\nEnter Hours: 45\\n\\nEnter Rate: 10\\n\\nPay: 475.0\\n\\n(475 = 40 * 10 + 5 * 15)\\n\\n\\n\\nRewrite your pay program using the \"if\" statement. Use the \"isdigit\" method (assume the user enters non-float numbers) or try/except (if you already know the concept of try/except => We will cover it in Chapter 7). So, your program handles non-numeric input gracefully.\\n\\n\\n\\nEnter Hours: 20\\n\\nEnter Rate: nine\\n\\nError, please enter numeric input\\n\\nEnter Hours: forty \\n\\nError, please enter numeric input\\n\\n\\n\\n\\n\\n\\n\\n\\n\\nRun your code with THREE different INPUTS and put the results at the end of your code as a multi-line comment.\\nYour result\\n\\n\\n\\nDon\\'t forget to put your name and a short description of your code on the top of your code.\\n\\n\\n\\n'"
      ]
     },
     "execution_count": 1,
     "metadata": {},
     "output_type": "execute_result"
    }
   ],
   "source": [
    "'''\n",
    "You wrote a program to prompt the user for hours and rate per hour to compute gross pay. Also, your pay computation gives the employee 1.5 times the hourly rate for hours worked above 40 hours.\n",
    "\n",
    "Enter Hours: 45\n",
    "\n",
    "Enter Rate: 10\n",
    "\n",
    "Pay: 475.0\n",
    "\n",
    "(475 = 40 * 10 + 5 * 15)\n",
    "\n",
    " \n",
    "\n",
    "Rewrite your pay program using the \"if\" statement. Use the \"isdigit\" method (assume the user enters non-float numbers) or try/except (if you already know the concept of try/except => We will cover it in Chapter 7). So, your program handles non-numeric input gracefully.\n",
    "\n",
    " \n",
    "\n",
    "Enter Hours: 20\n",
    "\n",
    "Enter Rate: nine\n",
    "\n",
    "Error, please enter numeric input\n",
    "\n",
    "Enter Hours: forty \n",
    "\n",
    "Error, please enter numeric input\n",
    "\n",
    " \n",
    "\n",
    " \n",
    "\n",
    " \n",
    "\n",
    " \n",
    "\n",
    "Run your code with THREE different INPUTS and put the results at the end of your code as a multi-line comment.\n",
    "Your result\n",
    "\n",
    "\n",
    "\n",
    "Don't forget to put your name and a short description of your code on the top of your code.\n",
    "\n",
    "\n",
    "\n",
    "'''"
   ]
  },
  {
   "cell_type": "code",
   "execution_count": null,
   "metadata": {},
   "outputs": [
    {
     "name": "stdout",
     "output_type": "stream",
     "text": [
      "Gross Pay:475.00 \n"
     ]
    }
   ],
   "source": [
    "# Inky Ganbold\n",
    "# CIS41A\n",
    "# Chapter 3 Exercise 2\n",
    "# This program calculates the gross pay for an employee, considering overtime pay (1.5 times the hourly rate for hours worked above 40).\n",
    "# Also handles error\n",
    "ALLOWED_HOURS = 40\n",
    "MUTLIPLICATION = 1.5\n",
    "try:\n",
    "    # Prompt user for input\n",
    "    hours = int(input(\"Enter your hours: \"))\n",
    "    rate = int(input(\"Enter your rate: \"))\n",
    "    \n",
    "    # Calculate and display pay\n",
    "    \"\"\"\n",
    "    Function to calculate gross pay based on hours worked and hourly rate.\n",
    "    Overtime (hours > 40) is paid at 1.5 times the hourly rate.\n",
    "    \"\"\" \n",
    "    if hours > ALLOWED_HOURS:\n",
    "        overtime_pay = (hours - ALLOWED_HOURS) * (rate * MUTLIPLICATION)\n",
    "        total_pay = overtime_pay + (rate * ALLOWED_HOURS)\n",
    "    else:\n",
    "        total_pay = rate * hours\n",
    "\n",
    "    print(f\"Gross Pay:{total_pay} \")\n",
    "except ValueError:\n",
    "    print(\"Error, please enter numeric input\")"
   ]
  },
  {
   "cell_type": "code",
   "execution_count": null,
   "metadata": {},
   "outputs": [],
   "source": [
    "\"\"\"\n",
    "Enter your hours: 9\n",
    "Enter your rate: nine\n",
    "Error, please enter numeric input\n",
    "\n",
    "\n",
    "Enter your hours: ten\n",
    "Error, please enter numeric input\n",
    "\n",
    "\n",
    "\"\"\""
   ]
  }
 ],
 "metadata": {
  "kernelspec": {
   "display_name": ".venv",
   "language": "python",
   "name": "python3"
  },
  "language_info": {
   "codemirror_mode": {
    "name": "ipython",
    "version": 3
   },
   "file_extension": ".py",
   "mimetype": "text/x-python",
   "name": "python",
   "nbconvert_exporter": "python",
   "pygments_lexer": "ipython3",
   "version": "3.12.9"
  }
 },
 "nbformat": 4,
 "nbformat_minor": 2
}
