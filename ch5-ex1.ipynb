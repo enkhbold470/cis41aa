{
 "cells": [
  {
   "cell_type": "markdown",
   "id": "0a42145a",
   "metadata": {},
   "source": [
    "Rewrite your pay computation program and use the following functions (get_input, compute_pay, print_output)\n",
    "\n",
    "Don't forget to calculate overtime.\n",
    "\n",
    "Enter Hours: 45\n",
    "\n",
    "Enter Rate: 10\n",
    "\n",
    "Pay: 475.0\n",
    "\n",
    " \n",
    "\n",
    "YOU NEED THREE FUNCTIONS:\n",
    "the_hours, the_rate = get_input()\n",
    "\n",
    "the_pay = compute_pay(the_hours, the_rate)\n",
    "\n",
    "print_output(the_pay)\n",
    "\n",
    " \n",
    "\n",
    "Call the functions and pass the arguments in the \"main\" function.\n",
    "\n",
    "Example:\n",
    "\n",
    "def main():\n",
    "\n",
    "     the_hours, the_rate = get_input()\n",
    "\n",
    "     the_pay = compute_pay(the_hours, the_rate)\n",
    "\n",
    "     print_output(the_pay)\n",
    "\n",
    " \n",
    "\n",
    "main()\n",
    "\n",
    " \n",
    "\n",
    " \n",
    "\n",
    "Submit your code here.\n",
    "\n"
   ]
  },
  {
   "cell_type": "code",
   "execution_count": 3,
   "id": "d9db6ffc",
   "metadata": {},
   "outputs": [],
   "source": [
    "# Inky Ganbold\n",
    "# CIS41A\n",
    "# Chapter 5 Exercise 1\n"
   ]
  },
  {
   "cell_type": "code",
   "execution_count": 8,
   "id": "6af99c00",
   "metadata": {},
   "outputs": [
    {
     "name": "stdout",
     "output_type": "stream",
     "text": [
      "{'hi'}\n"
     ]
    }
   ],
   "source": [
    "def print_out(a):\n",
    "    print({a})\n",
    "print_out(\"hi\")"
   ]
  },
  {
   "cell_type": "code",
   "execution_count": 11,
   "id": "ba38765f",
   "metadata": {},
   "outputs": [
    {
     "data": {
      "text/plain": [
       "15129"
      ]
     },
     "execution_count": 11,
     "metadata": {},
     "output_type": "execute_result"
    }
   ],
   "source": [
    "def compute_pay(hours, rate):\n",
    "    hours = hours * rate\n",
    "    return hours\n",
    "compute_pay(123,123)"
   ]
  },
  {
   "cell_type": "code",
   "execution_count": 12,
   "id": "fd25a1b1",
   "metadata": {},
   "outputs": [],
   "source": [
    "def get_input():\n",
    "    the_hours = int(input(\"Enter your hours you're working for…'\"))\n",
    "    the_rate = int(input(\"Enter your rate you work for by dollar, of course'\"))\n",
    "    return the_hours, the_rate"
   ]
  },
  {
   "cell_type": "code",
   "execution_count": null,
   "id": "ee0b3cfa",
   "metadata": {},
   "outputs": [
    {
     "name": "stdout",
     "output_type": "stream",
     "text": [
      "{880}\n"
     ]
    }
   ],
   "source": [
    "\n",
    "def main():\n",
    "    the_hours, the_rate = get_input()\n",
    "    the_pay = compute_pay(the_hours, the_rate)\n",
    "    print_out(the_pay)\n",
    "main()\n"
   ]
  }
 ],
 "metadata": {
  "kernelspec": {
   "display_name": ".venv",
   "language": "python",
   "name": "python3"
  },
  "language_info": {
   "codemirror_mode": {
    "name": "ipython",
    "version": 3
   },
   "file_extension": ".py",
   "mimetype": "text/x-python",
   "name": "python",
   "nbconvert_exporter": "python",
   "pygments_lexer": "ipython3",
   "version": "3.12.9"
  }
 },
 "nbformat": 4,
 "nbformat_minor": 5
}
