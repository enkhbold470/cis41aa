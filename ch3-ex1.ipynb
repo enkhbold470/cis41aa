{
 "cells": [
  {
   "cell_type": "code",
   "execution_count": null,
   "metadata": {},
   "outputs": [
    {
     "data": {
      "text/plain": [
       "\" You wrote a program to prompt the user for hours and rate per hour to compute gross pay. Rewrite your pay computation to give the employee 1.5 times the hourly rate for hours worked above 40 hours.\\n\\nEnter Hours: 45\\n\\nEnter Rate: 10\\n\\nPay: 475.0\\n\\n\\n\\n475 = 40 * 10 + 5 * 15\\n\\n\\n\\n\\n\\nRun your code with two different numbers  and put the results  at the end of your code as a multi-line comment.\\n'''\\n\\nYour result\\n\\n'''\\n\\nDon't forget to put your name and a short description of your code on the top on your code.\\n\""
      ]
     },
     "execution_count": 1,
     "metadata": {},
     "output_type": "execute_result"
    }
   ],
   "source": [
    "# Inky Ganbold\n",
    "# CIS41A\n",
    "#chapter3 ex1\n",
    "\"\"\" You wrote a program to prompt the user for hours and rate per hour to compute gross pay. Rewrite your pay computation to give the employee 1.5 times the hourly rate for hours worked above 40 hours.\n",
    "Enter Hours: 45\n",
    "\n",
    "Enter Rate: 10\n",
    "\n",
    "Pay: 475.0\n",
    "\n",
    "475 = 40 * 10 + 5 * 15\n",
    "\n",
    "Run your code with two different numbers  and put the results  at the end of your code as a multi-line comment.\n",
    "'''\n",
    "Your result\n",
    "'''\n",
    "\n",
    "Don't forget to put your name and a short description of your code on the top on your code.\n",
    "\"\"\""
   ]
  },
  {
   "cell_type": "code",
   "execution_count": null,
   "metadata": {},
   "outputs": [
    {
     "name": "stdout",
     "output_type": "stream",
     "text": [
      "Gross Pay:180.00 \n"
     ]
    }
   ],
   "source": [
    "# Inky Ganbold\n",
    "# CIS41A\n",
    "# Chapter 3 Exercise 1\n",
    "# This program calculates the gross pay for an employee, considering overtime pay (1.5 times the hourly rate for hours worked above 40).\n",
    "#\n",
    "ALLOWED_HOURS = 40\n",
    "MUTLIPLICATION = 1.5\n",
    "try:\n",
    "    # Prompt user for input\n",
    "    hours = int(input(\"Enter your hours: \"))\n",
    "    rate = int(input(\"Enter your rate: \"))\n",
    "    \n",
    "    # Calculate and display pay\n",
    "    \"\"\"\n",
    "    Function to calculate gross pay based on hours worked and hourly rate.\n",
    "    Overtime (hours > 40) is paid at 1.5 times the hourly rate.\n",
    "      \"\"\" \n",
    "    if hours > ALLOWED_HOURS:\n",
    "        overtime_pay = (hours - ALLOWED_HOURS) * (rate * MUTLIPLICATION)\n",
    "        total_pay = overtime_pay + (rate * ALLOWED_HOURS)\n",
    "    else:\n",
    "        total_pay = rate * hours\n",
    "\n",
    "    print(f\"Gross Pay:{total_pay} \")\n",
    "except ValueError:\n",
    "    print(\"Invalid input. Please enter numeric values for hours and rate.\")"
   ]
  },
  {
   "cell_type": "code",
   "execution_count": null,
   "metadata": {},
   "outputs": [],
   "source": [
    "\"\"\"\n",
    "Enter your hours: 45\n",
    "Enter your rate: 10\n",
    "Gross Pay: 475.0\n",
    "\n",
    "Enter your hours: 60\n",
    "Enter your rate: 15\n",
    "Gross Pay: 1050.0\n",
    "\n",
    "\"\"\""
   ]
  }
 ],
 "metadata": {
  "kernelspec": {
   "display_name": ".venv",
   "language": "python",
   "name": "python3"
  },
  "language_info": {
   "codemirror_mode": {
    "name": "ipython",
    "version": 3
   },
   "file_extension": ".py",
   "mimetype": "text/x-python",
   "name": "python",
   "nbconvert_exporter": "python",
   "pygments_lexer": "ipython3",
   "version": "3.12.9"
  }
 },
 "nbformat": 4,
 "nbformat_minor": 2
}
