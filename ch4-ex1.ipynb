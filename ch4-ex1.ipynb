{
 "cells": [
  {
   "cell_type": "markdown",
   "metadata": {},
   "source": [
    "Ask the user to enter an email address.\n",
    "Check that it is a valid email address => it should have \"@\"  and \".\"  (for example: if '@' and '.' in user_input:      )\n",
    "Find the domain name of the email address and print it\n",
    "for example, if a user entered joe@yahoo.com\n",
    "\n",
    "\n",
    "print \"yahoo\"\n",
    "\n",
    "Put at least two outputs  (results after you run your code) at the end of your code as a multi-line comment.\n",
    " \n",
    "\n",
    "Don't forget to put your name and a short description of your code on the top of your code."
   ]
  },
  {
   "cell_type": "code",
   "execution_count": 1,
   "metadata": {},
   "outputs": [
    {
     "name": "stdout",
     "output_type": "stream",
     "text": [
      "/Users/in-mac/cis41/.venv/bin/python\n"
     ]
    }
   ],
   "source": [
    "!source .venv/bin/activate\n",
    "!which python"
   ]
  },
  {
   "cell_type": "code",
   "execution_count": 2,
   "metadata": {},
   "outputs": [
    {
     "name": "stdout",
     "output_type": "stream",
     "text": [
      "uv 0.6.14 (a4cec56dc 2025-04-09)\n"
     ]
    }
   ],
   "source": [
    "!uv --version"
   ]
  },
  {
   "cell_type": "code",
   "execution_count": null,
   "metadata": {},
   "outputs": [],
   "source": [
    "# Inky Ganbold\n",
    "# CIS41A\n",
    "# Chapter 4 Exercise 1\n",
    "# Team: Python Enjoyers\n",
    "# This program calculates the gross pay for an employee, considering overtime pay (1.5 times the hourly rate for hours worked above 40).\n",
    "# Also handles error"
   ]
  },
  {
   "cell_type": "code",
   "execution_count": null,
   "metadata": {},
   "outputs": [
    {
     "name": "stdout",
     "output_type": "stream",
     "text": [
      "invalid\n"
     ]
    }
   ],
   "source": [
    "\n",
    "user_input = input(\"Please enter your email: \") # gets input \n",
    "\n",
    "pos1 = user_input.find(\"@\") # get @ index\n",
    "pos2 = user_input.find(\".\") # get . index\n",
    "if pos1 != -1 or pos2 != -1: # checks if it is valid input, if it is not valid pos1 or pos1 became -1\n",
    "    print(\"valid\")           # tell it is valid email   \n",
    "    print(user_input[pos1+1:pos2]) # print the domain name\n",
    "else:\n",
    "    print(\"invalid\")        # print the invalid"
   ]
  },
  {
   "cell_type": "code",
   "execution_count": null,
   "metadata": {},
   "outputs": [],
   "source": [
    "\"\"\"\n",
    "input: inky\n",
    "output: invalid\n",
    "\n",
    "\n",
    "input: inky@enk.icu\n",
    "output: valid\n",
    "output: enk\n",
    "\n",
    "\"\"\""
   ]
  }
 ],
 "metadata": {
  "kernelspec": {
   "display_name": ".venv",
   "language": "python",
   "name": "python3"
  },
  "language_info": {
   "codemirror_mode": {
    "name": "ipython",
    "version": 3
   },
   "file_extension": ".py",
   "mimetype": "text/x-python",
   "name": "python",
   "nbconvert_exporter": "python",
   "pygments_lexer": "ipython3",
   "version": "3.12.9"
  }
 },
 "nbformat": 4,
 "nbformat_minor": 2
}
